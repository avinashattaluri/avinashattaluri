{
 "cells": [
  {
   "cell_type": "code",
   "execution_count": 5,
   "id": "45c28da8",
   "metadata": {},
   "outputs": [
    {
     "name": "stdout",
     "output_type": "stream",
     "text": [
      "<class 'int'>\n",
      "<class 'float'>\n",
      "<class 'complex'>\n"
     ]
    }
   ],
   "source": [
    "a=79\n",
    "b=50.3\n",
    "c=7+6j\n",
    "print(type(a))\n",
    "print(type(b))\n",
    "print(type(c))"
   ]
  },
  {
   "cell_type": "code",
   "execution_count": 10,
   "id": "32519f5f",
   "metadata": {},
   "outputs": [
    {
     "name": "stdout",
     "output_type": "stream",
     "text": [
      "100.0\n",
      "34\n",
      "(5+4j)\n"
     ]
    }
   ],
   "source": [
    "A=100\n",
    "B=34.5\n",
    "C=5+4j\n",
    "D=float(A)\n",
    "E=int(B)\n",
    "F=complex(C)\n",
    "print(D)\n",
    "print(E)\n",
    "print(F)"
   ]
  },
  {
   "cell_type": "code",
   "execution_count": 11,
   "id": "458244c7",
   "metadata": {},
   "outputs": [
    {
     "name": "stdout",
     "output_type": "stream",
     "text": [
      "True\n",
      "False\n",
      "False\n"
     ]
    }
   ],
   "source": [
    "print(800<900)\n",
    "print(420==520)\n",
    "print(150>200)"
   ]
  },
  {
   "cell_type": "code",
   "execution_count": 14,
   "id": "7abd76d7",
   "metadata": {},
   "outputs": [
    {
     "name": "stdout",
     "output_type": "stream",
     "text": [
      "142\n",
      "-46\n",
      "4512\n",
      "1.9583333333333333\n"
     ]
    }
   ],
   "source": [
    "x=48\n",
    "y=94\n",
    "P=x+y\n",
    "Q=X-y\n",
    "R=x*y\n",
    "S=y/x\n",
    "print(P)\n",
    "print(Q)\n",
    "print(R)\n",
    "print(S)"
   ]
  }
 ],
 "metadata": {
  "kernelspec": {
   "display_name": "Python 3 (ipykernel)",
   "language": "python",
   "name": "python3"
  },
  "language_info": {
   "codemirror_mode": {
    "name": "ipython",
    "version": 3
   },
   "file_extension": ".py",
   "mimetype": "text/x-python",
   "name": "python",
   "nbconvert_exporter": "python",
   "pygments_lexer": "ipython3",
   "version": "3.9.12"
  }
 },
 "nbformat": 4,
 "nbformat_minor": 5
}
