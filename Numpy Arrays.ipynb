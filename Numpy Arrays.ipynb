{
 "cells": [
  {
   "cell_type": "code",
   "execution_count": 11,
   "id": "273e2d5b",
   "metadata": {},
   "outputs": [
    {
     "name": "stdout",
     "output_type": "stream",
     "text": [
      "1D array:\n",
      "[3, 5, 7, 9, 11, 13]\n"
     ]
    }
   ],
   "source": [
    "import numpy as np\n",
    "\n",
    "#creating the 1D array\n",
    "\n",
    "array_xy=([3,5,7,9,11,13])\n",
    "print(\"1D array:\")\n",
    "print(array_xy)\n"
   ]
  },
  {
   "cell_type": "code",
   "execution_count": 8,
   "id": "4ea26c69",
   "metadata": {},
   "outputs": [
    {
     "name": "stdout",
     "output_type": "stream",
     "text": [
      "/n2D array:\n",
      "[[1, 2, 3, 4, 5], [6, 7, 8, 9, 10]]\n"
     ]
    }
   ],
   "source": [
    "#creating the 2D array\n",
    "\n",
    "array_ab=([[1,2,3,4,5],[6,7,8,9,10]])\n",
    "print(\"/n2D array:\")\n",
    "print(array_ab)"
   ]
  },
  {
   "cell_type": "code",
   "execution_count": 10,
   "id": "c1a57408",
   "metadata": {},
   "outputs": [
    {
     "name": "stdout",
     "output_type": "stream",
     "text": [
      "/n3D array:\n",
      "[[[2, 4, 6, 8, 10], [3, 5, 7, 9, 11], [1, 2, 3, 4, 5]]]\n"
     ]
    }
   ],
   "source": [
    "#creating the 3D array\n",
    "\n",
    "array_cd=([[[2,4,6,8,10],[3,5,7,9,11],[1,2,3,4,5]]])\n",
    "print(\"/n3D array:\")\n",
    "print(array_cd)"
   ]
  },
  {
   "cell_type": "code",
   "execution_count": 24,
   "id": "0510fd70",
   "metadata": {},
   "outputs": [
    {
     "name": "stdout",
     "output_type": "stream",
     "text": [
      "5\n"
     ]
    }
   ],
   "source": [
    "import numpy as np\n",
    "\n",
    "pqr=np.array([1,2,3,4,5,6,7])\n",
    "print(pqr[0]+pqr[3])"
   ]
  },
  {
   "cell_type": "code",
   "execution_count": 35,
   "id": "d0fac9f9",
   "metadata": {},
   "outputs": [
    {
     "name": "stdout",
     "output_type": "stream",
     "text": [
      "29\n",
      "8\n",
      "1\n",
      "48\n"
     ]
    }
   ],
   "source": [
    "import numpy as ns\n",
    "\n",
    "prr=ns.array([[[1,2,3,4,5],\n",
    "              [6,7,8,9,10]],\n",
    "             \n",
    "             [[11,12,13,14,15],\n",
    "             [16,17,18,19,20]],\n",
    "             \n",
    "             [[21,22,23,24,25],\n",
    "              [26,27,28,29,30]],\n",
    "             \n",
    "             [[31,32,33,34,35],\n",
    "              [36,37,38,39,40]],\n",
    "             \n",
    "             [[41,42,43,44,45],\n",
    "              [46,47,48,49,50]]])\n",
    "print(prr[2,1,3])\n",
    "print(prr[0,1,2])\n",
    "print(prr[0,0,0])\n",
    "print(prr[4,1,2])"
   ]
  },
  {
   "cell_type": "code",
   "execution_count": 42,
   "id": "20941712",
   "metadata": {},
   "outputs": [
    {
     "name": "stdout",
     "output_type": "stream",
     "text": [
      "original 1D array:\n",
      "[1 2 3 4 5 6]\n",
      "/n2D array:\n",
      "[[1 2]\n",
      " [3 4]\n",
      " [5 6]]\n"
     ]
    }
   ],
   "source": [
    "import numpy as np\n",
    "\n",
    "#creating the 1D array\n",
    "array_1D=np.array([1,2,3,4,5,6])\n",
    "#reshaping the array to 2D with 3 rows and 2 colums\n",
    "array_2D= array_1D.reshape(3,2)\n",
    "print(\"original 1D array:\")\n",
    "print(array_1D)\n",
    "print(\"/n2D array:\")\n",
    "print(array_2D)"
   ]
  }
 ],
 "metadata": {
  "kernelspec": {
   "display_name": "Python 3 (ipykernel)",
   "language": "python",
   "name": "python3"
  },
  "language_info": {
   "codemirror_mode": {
    "name": "ipython",
    "version": 3
   },
   "file_extension": ".py",
   "mimetype": "text/x-python",
   "name": "python",
   "nbconvert_exporter": "python",
   "pygments_lexer": "ipython3",
   "version": "3.9.12"
  }
 },
 "nbformat": 4,
 "nbformat_minor": 5
}
