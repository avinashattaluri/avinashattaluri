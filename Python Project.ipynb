{
 "cells": [
  {
   "cell_type": "code",
   "execution_count": 2,
   "id": "e040d93a",
   "metadata": {},
   "outputs": [
    {
     "name": "stdout",
     "output_type": "stream",
     "text": [
      "Enter your choice (rock, paper, scissors) or 'q' to quit: q\n",
      "Thanks for playing!\n"
     ]
    }
   ],
   "source": [
    "\n",
    "def rock_paper_scissors(player_choice, computer_choice):\n",
    "    if player_choice == computer_choice:\n",
    "        return \"It's a tie!\"\n",
    "    elif (player_choice == 'rock' and computer_choice == 'scissors') or (player_choice == 'paper' and computer_choice == 'rock') or (player_choice == 'scissors' and computer_choice == 'paper'):\n",
    "        return \"You win!\"\n",
    "    else:\n",
    "        return \"You lose!\"\n",
    "\n",
    "choices = ['rock', 'paper', 'scissors']\n",
    "\n",
    "while True:\n",
    "    player_choice = input(\"Enter your choice (rock, paper, scissors) or 'q' to quit: \").lower()\n",
    "\n",
    "    if player_choice == 'q':\n",
    "        print(\"Thanks for playing!\")\n",
    "        break\n",
    "\n",
    "    if player_choice not in choices:\n",
    "        print(\"Invalid choice. Choose from rock, paper, or scissors.\")\n",
    "        continue\n",
    "\n",
    "    computer_choice = random.choice(choices)\n",
    "    result = rock_paper_scissors(player_choice, computer_choice)\n",
    "\n",
    "    print(f\"Computer picks: {computer_choice}\")\n",
    "    print(result)"
   ]
  },
  {
   "cell_type": "code",
   "execution_count": 1,
   "id": "97d4b01f",
   "metadata": {},
   "outputs": [
    {
     "name": "stdout",
     "output_type": "stream",
     "text": [
      "Available Products:\n",
      "apple: zl2.0\n",
      "banana: zl1.0\n",
      "orange: zl1.5\n",
      "Enter the product you want to buy (or 'done' to finish shopping): apple\n",
      "Enter the quantity: 3\n",
      "3 apple(s) added to cart.\n",
      "Available Products:\n",
      "apple: zl2.0\n",
      "banana: zl1.0\n",
      "orange: zl1.5\n",
      "Enter the product you want to buy (or 'done' to finish shopping): banana\n",
      "Enter the quantity: 3\n",
      "3 banana(s) added to cart.\n",
      "Available Products:\n",
      "apple: zl2.0\n",
      "banana: zl1.0\n",
      "orange: zl1.5\n",
      "Enter the product you want to buy (or 'done' to finish shopping): orange\n",
      "Enter the quantity: 2\n",
      "2 orange(s) added to cart.\n",
      "Available Products:\n",
      "apple: zl2.0\n",
      "banana: zl1.0\n",
      "orange: zl1.5\n",
      "Enter the product you want to buy (or 'done' to finish shopping): done\n",
      "\n",
      "Total Amount: $12.0\n",
      "Thank you for shopping with us!\n"
     ]
    }
   ],
   "source": [
    "# Product catalog with prices\n",
    "products = {\n",
    "    \"apple\": 2.0,\n",
    "    \"banana\": 1.0,\n",
    "    \"orange\": 1.5\n",
    "}\n",
    "\n",
    "# Initialize cart\n",
    "cart = {}\n",
    "\n",
    "# Function to display available products\n",
    "def display_products():\n",
    "    print(\"Available Products:\")\n",
    "    for product, price in products.items():\n",
    "        print(f\"{product}: zl{price}\")\n",
    "\n",
    "# Function to add products to cart\n",
    "def add_to_cart(product, quantity):\n",
    "    if product in products:\n",
    "        if product in cart:\n",
    "            cart[product] += quantity\n",
    "        else:\n",
    "            cart[product] = quantity\n",
    "        print(f\"{quantity} {product}(s) added to cart.\")\n",
    "    else:\n",
    "        print(\"Product not available.\")\n",
    "\n",
    "# Function to calculate total amount\n",
    "def calculate_total():\n",
    "    total = sum(products[product] * quantity for product, quantity in cart.items())\n",
    "    return total\n",
    "\n",
    "# Main program loop\n",
    "while True:\n",
    "    display_products()\n",
    "\n",
    "    choice = input(\"Enter the product you want to buy (or 'done' to finish shopping): \")\n",
    "\n",
    "    if choice.lower() == 'done':\n",
    "        break\n",
    "\n",
    "    quantity = int(input(\"Enter the quantity: \"))\n",
    "    add_to_cart(choice.lower(), quantity)\n",
    "\n",
    "total_amount = calculate_total()\n",
    "print(f\"\\nTotal Amount: ${total_amount}\")\n",
    "print(\"Thank you for shopping with us!\")"
   ]
  }
 ],
 "metadata": {
  "kernelspec": {
   "display_name": "Python 3 (ipykernel)",
   "language": "python",
   "name": "python3"
  },
  "language_info": {
   "codemirror_mode": {
    "name": "ipython",
    "version": 3
   },
   "file_extension": ".py",
   "mimetype": "text/x-python",
   "name": "python",
   "nbconvert_exporter": "python",
   "pygments_lexer": "ipython3",
   "version": "3.9.12"
  }
 },
 "nbformat": 4,
 "nbformat_minor": 5
}
