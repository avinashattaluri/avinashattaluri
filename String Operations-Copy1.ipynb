{
 "cells": [
  {
   "cell_type": "code",
   "execution_count": 3,
   "id": "edd9605a",
   "metadata": {},
   "outputs": [
    {
     "name": "stdout",
     "output_type": "stream",
     "text": [
      "My nameis Avinash\n"
     ]
    }
   ],
   "source": [
    "str1 = 'My name'\n",
    "str2 =  'is Avinash'\n",
    "print(str1+ str2)"
   ]
  },
  {
   "cell_type": "code",
   "execution_count": 6,
   "id": "2c57248b",
   "metadata": {},
   "outputs": [
    {
     "name": "stdout",
     "output_type": "stream",
     "text": [
      "AvinashAvinashAvinash\n"
     ]
    }
   ],
   "source": [
    "str1='Avinash'\n",
    "print(str1*3)"
   ]
  },
  {
   "cell_type": "code",
   "execution_count": 15,
   "id": "730c62b8",
   "metadata": {},
   "outputs": [
    {
     "name": "stdout",
     "output_type": "stream",
     "text": [
      "My name is Avinash and I am 19 years old. I am from Hyderabad\n"
     ]
    }
   ],
   "source": [
    "a='Avinash'\n",
    "b='19'\n",
    "c='Hyderabad'\n",
    "print(f\"My name is {a} and I am {b} years old. I am from {c}\")"
   ]
  },
  {
   "cell_type": "code",
   "execution_count": 16,
   "id": "741f1776",
   "metadata": {},
   "outputs": [
    {
     "name": "stdout",
     "output_type": "stream",
     "text": [
      "28\n"
     ]
    }
   ],
   "source": [
    "a= 'Python is very easy language'\n",
    "print(len(a))"
   ]
  },
  {
   "cell_type": "code",
   "execution_count": 21,
   "id": "2350e83b",
   "metadata": {},
   "outputs": [
    {
     "name": "stdout",
     "output_type": "stream",
     "text": [
      "hello java\n"
     ]
    }
   ],
   "source": [
    "my_string='hello world'\n",
    "new_string= my_string.replace(\"world\", \"java\")\n",
    "print(new_string)"
   ]
  },
  {
   "cell_type": "code",
   "execution_count": 37,
   "id": "78ebf3fd",
   "metadata": {},
   "outputs": [
    {
     "name": "stdout",
     "output_type": "stream",
     "text": [
      "Python is easy\n"
     ]
    }
   ],
   "source": [
    "words= ['Python','is','easy']\n",
    "joined_string='Python is easy'\n",
    "print(joined_string)"
   ]
  }
 ],
 "metadata": {
  "kernelspec": {
   "display_name": "Python 3 (ipykernel)",
   "language": "python",
   "name": "python3"
  },
  "language_info": {
   "codemirror_mode": {
    "name": "ipython",
    "version": 3
   },
   "file_extension": ".py",
   "mimetype": "text/x-python",
   "name": "python",
   "nbconvert_exporter": "python",
   "pygments_lexer": "ipython3",
   "version": "3.9.12"
  }
 },
 "nbformat": 4,
 "nbformat_minor": 5
}
